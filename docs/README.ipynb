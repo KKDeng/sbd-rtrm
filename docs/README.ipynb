{
 "cells": [
  {
   "cell_type": "markdown",
   "metadata": {},
   "source": [
    "# SBD-RTRM: Sparse blind deconvolution using the Riemannian Trust-Region Method (RTRM)"
   ]
  },
  {
   "cell_type": "markdown",
   "metadata": {},
   "source": [
    "This package performs blind deconvolution under the observational data model\n",
    "\n",
    "$$\\mathcal Y = \\mathcal A \\diamond \\mathcal X + \\mathcal N \\quad\\in\\mathbb R^{s\\times n_1\\times n_2}$$\n",
    "\n",
    "- The *kernel* $\\mathcal A \\in \\mathbb R^{s\\times k_1\\times k_2}$ is a \"template tensor\" that of $s$ measurement \"slices\" that is small in size relative to the observation window (i.e. $k_1\\ll n_1$, $k_2\\ll n_2$). \n",
    "- Each kernel slice convolves (via standard 2D convolution) with the ***sparse** activation map* $\\mathcal X \\in \\mathbb R^{n_1\\times n_2}$ to produce a slice in the observation $\\mathcal Y$.\n",
    "- One may also expect that each entry in $\\mathcal Y$ to have also been contaminated by a (presumably"
   ]
  },
  {
   "cell_type": "code",
   "execution_count": null,
   "metadata": {
    "collapsed": true
   },
   "outputs": [],
   "source": []
  }
 ],
 "metadata": {
  "kernelspec": {
   "display_name": "Python 3",
   "language": "python",
   "name": "python3"
  },
  "language_info": {
   "codemirror_mode": {
    "name": "ipython",
    "version": 3
   },
   "file_extension": ".py",
   "mimetype": "text/x-python",
   "name": "python",
   "nbconvert_exporter": "python",
   "pygments_lexer": "ipython3",
   "version": "3.6.1"
  }
 },
 "nbformat": 4,
 "nbformat_minor": 2
}
